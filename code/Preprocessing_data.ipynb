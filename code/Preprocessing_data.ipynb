{
 "cells": [
  {
   "cell_type": "code",
   "execution_count": null,
   "id": "592b75b3",
   "metadata": {},
   "outputs": [],
   "source": [
    "import numpy as np\n",
    "import pandas as pd\n",
    "import os\n",
    "import scipy as sp\n",
    "import seaborn as sns\n",
    "import matplotlib.pyplot as plt\n",
    "from datetime import datetime\n",
    "from dateutil.relativedelta import relativedelta\n",
    "import matplotlib.dates as mdates\n",
    "import sys\n",
    "import os\n",
    "import warnings\n",
    "warnings.filterwarnings('ignore')"
   ]
  },
  {
   "cell_type": "code",
   "execution_count": null,
   "id": "e1c52c9b",
   "metadata": {},
   "outputs": [],
   "source": [
    "%matplotlib inline"
   ]
  },
  {
   "cell_type": "code",
   "execution_count": null,
   "id": "a2e8dd82",
   "metadata": {},
   "outputs": [],
   "source": [
    "#Processes a user's ScanWatch activity data.\n",
    "# Parameters:\n",
    "# watch_u (list of DataFrames): A list where each DataFrame contains activity data from a user's watch.\n",
    "# Returns:\n",
    "# DataFrame: A single DataFrame with aggregated daily metrics (mean/min/max HR or total values).\n",
    "def process_user_scanwatch_activity(watch_u):\n",
    "    sub_daily = []\n",
    "    for watch_u_sub in watch_u:\n",
    "        hr = False\n",
    "        for c in watch_u_sub.columns:\n",
    "            if \"Timestamp\" in c:\n",
    "                watch_u_sub[c] = pd.to_datetime(watch_u_sub[c], utc=True).dt.date\n",
    "                date_col = c\n",
    "            if \"Heart Rate\" in c or \"HR\" in c:\n",
    "                hr = True\n",
    "        if hr:\n",
    "            sub_daily.append(watch_u_sub.groupby(date_col).agg({\"Heart Rate\":['mean','min','max']}))\n",
    "            sub_daily[-1].columns = ['_'.join(col).strip() for col in sub_daily[-1].columns.values]\n",
    "        else:\n",
    "            sub_daily.append(watch_u_sub.groupby(date_col).sum())\n",
    "    return pd.concat(sub_daily,axis=1)\n",
    "    "
   ]
  },
  {
   "cell_type": "code",
   "execution_count": null,
   "id": "8659b1de",
   "metadata": {},
   "outputs": [],
   "source": [
    "\n",
    "#Processes a user's sleep state data to calculate total time spent in each sleep state per day.\n",
    "#Parameters:\n",
    "#sleep_u (DataFrame): A DataFrame containing sleep state transitions with start/end times and labels.\n",
    "#Returns:\n",
    "#DataFrame: Daily totals of sleep state durations (in minutes) for each sleep state.\n",
    "\n",
    "def process_user_sleep_state(sleep_u):\n",
    "    for c in sleep_u.columns:\n",
    "        if \"time\" in c:\n",
    "            sleep_u[c] = pd.to_datetime(sleep_u[c], utc=True)\n",
    "\n",
    "    sleep_u['Start time'] = sleep_u['Start time'] - pd.to_timedelta(12, unit='h')\n",
    "    sleep_u['End time'] = sleep_u['End time'] - pd.to_timedelta(12, unit='h')\n",
    "    sleep_u['sleep_state_duration'] = (sleep_u['End time'] - sleep_u['Start time']).astype('timedelta64[s]').astype(int)/60\n",
    "    sleep_u['date'] = sleep_u['Start time'].dt.date\n",
    "\n",
    "    one_hot = pd.get_dummies(sleep_u['Sleep state'])\n",
    "    one_hot[one_hot.columns] = one_hot.values * sleep_u['sleep_state_duration'].values.reshape(-1,1)\n",
    "\n",
    "    sleep_daily = pd.concat([sleep_u['date'],one_hot],axis=1)\n",
    "    sleep_daily = sleep_daily.groupby('date').sum()\n",
    "    return sleep_daily"
   ]
  },
  {
   "cell_type": "code",
   "execution_count": null,
   "id": "f954f2fd",
   "metadata": {},
   "outputs": [],
   "source": [
    "#Processes a user's sleep state data to calculate total time spent in each sleep state per day.\n",
    "#Parameters:\n",
    "#sleep_u (DataFrame): A DataFrame containing sleep state transitions with start/end times and labels.\n",
    "#Returns:\n",
    "#DataFrame: Daily totals of sleep physiology\n",
    "def process_user_sleep_physio(sleep_u):\n",
    "    for c in sleep_u.columns:\n",
    "        if \"Timestamp\" in c:\n",
    "            sleep_u[c] = pd.to_datetime(sleep_u[c], utc=True)        \n",
    "    ## the timestamps of physio features are the same\n",
    "    sleep_u['date'] = sleep_u['Timestamp'].dt.date\n",
    "    \n",
    "    sleep_u = sleep_u.groupby('date').agg({\"Heart Rate\":['mean','min','max'],\"Respiration Rate\":['mean','min','max'],\"Snoring\":'sum',\"SDNN_1\":['mean','min','max']})\n",
    "    sleep_u.columns = ['_'.join(col).strip() for col in sleep_u.columns.values]\n",
    "    return sleep_u"
   ]
  },
  {
   "cell_type": "markdown",
   "id": "c242a1eb",
   "metadata": {},
   "source": [
    "## Read and aggregate individual data from devices on a daily basis"
   ]
  },
  {
   "cell_type": "code",
   "execution_count": null,
   "id": "5265b447",
   "metadata": {
    "scrolled": true
   },
   "outputs": [],
   "source": [
    "## read raw sleep data of each participant\n",
    "path = \"./Sleepmat_Watch_Data\"\n",
    "files = os.listdir(path)\n",
    "all_users_daily = pd.DataFrame()\n",
    "for i,uid in enumerate(files):\n",
    "    print('user id: ',uid)\n",
    "\n",
    "    fpath = os.path.join(path,uid)\n",
    "    if not os.path.isdir(fpath):\n",
    "        print('not dir: ',fpath)\n",
    "        continue\n",
    "    try:\n",
    "        watch_u_hr = pd.read_csv(os.path.join(fpath,\"ScanWatch_HR.csv\"))\n",
    "        watch_u_stp = pd.read_csv(os.path.join(fpath,\"ScanWatch_Steps.csv\"))\n",
    "        watch_u = [watch_u_hr,watch_u_stp]\n",
    "        \n",
    "        sleep_u_state = pd.read_csv(os.path.join(fpath,\"Sleep_state.csv\"))\n",
    "        sleep_u_state = sleep_u_state.drop_duplicates()\n",
    "        sleep_u_physio = pd.read_csv(os.path.join(fpath,\"Sleep_physio.csv\"))\n",
    "        sleep_u_physio = sleep_u_physio.drop_duplicates()\n",
    "    except FileNotFoundError:\n",
    "        print(fpath+'not exist')\n",
    "\n",
    "    \n",
    "    watch_u_daily = process_user_scanwatch_activity(watch_u)\n",
    "    watch_u_daily = watch_u_daily.rename(columns={c:'Watch_'+c for c in watch_u_daily.columns})\n",
    "    \n",
    "    sleep_u_state_daily = process_user_sleep_state(sleep_u_state)\n",
    "    sleep_u_phsio_daily = process_user_sleep_physio(sleep_u_physio)\n",
    "    \n",
    "    user_daily = pd.concat([watch_u_daily,sleep_u_state_daily,sleep_u_phsio_daily],axis=1)\n",
    "    user_daily[\"user_id\"] = uid\n",
    "    \n",
    "    \n",
    "    all_users_daily = pd.concat([all_users_daily,user_daily],axis=0)\n",
    "all_users_daily = all_users_daily.reset_index()    "
   ]
  },
  {
   "cell_type": "code",
   "execution_count": null,
   "id": "17c7a2af",
   "metadata": {},
   "outputs": [],
   "source": [
    "all_users_daily = all_users_daily.rename(columns={\"index\":\"date\"})\n",
    "all_users_daily.head()"
   ]
  },
  {
   "cell_type": "code",
   "execution_count": null,
   "id": "850cc842",
   "metadata": {},
   "outputs": [],
   "source": [
    "## drop sleep data that are invalid\n",
    "all_users_daily.drop(all_users_daily.loc[(all_users_daily.deep!=0)&(all_users_daily.light==0)].index,axis=0,inplace=True)\n",
    "all_users_daily.drop(all_users_daily.loc[(all_users_daily.light==0)&(all_users_daily.REM!=0)].index,axis=0,inplace=True)\n",
    "all_users_daily.drop(all_users_daily.loc[(all_users_daily.light==0)&(all_users_daily.REM==0)&(all_users_daily.deep==0)].index,axis=0,inplace=True)"
   ]
  },
  {
   "cell_type": "code",
   "execution_count": null,
   "id": "00861301",
   "metadata": {},
   "outputs": [],
   "source": [
    "all_users_daily['sleep_duration'] = all_users_daily[['light', 'deep', 'REM']].sum(axis=1)\n",
    "all_users_daily.loc[all_users_daily[['light', 'deep', 'REM']].isna().sum(axis=1)==3,'sleep_duration']=np.nan\n",
    "all_users_daily.drop(all_users_daily.loc[all_users_daily.sleep_duration>18*60].index,axis=0,inplace=True)\n",
    "all_users_daily.columns"
   ]
  },
  {
   "cell_type": "markdown",
   "id": "b340feee",
   "metadata": {},
   "source": [
    "## Load demographic information"
   ]
  },
  {
   "cell_type": "code",
   "execution_count": null,
   "id": "a2d4b33b",
   "metadata": {},
   "outputs": [],
   "source": [
    "demographic = pd.read_csv('./Demographics.csv')\n",
    "demographic.head()"
   ]
  },
  {
   "cell_type": "code",
   "execution_count": null,
   "id": "dd2bd238",
   "metadata": {},
   "outputs": [],
   "source": [
    "print(list(demographic.columns))"
   ]
  },
  {
   "cell_type": "code",
   "execution_count": null,
   "id": "7ad43d9f",
   "metadata": {},
   "outputs": [],
   "source": [
    "\n",
    "# Correcting column name and iterating over booleans\n",
    "for e in [True, False]:\n",
    "    for o in [True, False]:\n",
    "        count = demographic.loc[\n",
    "            (demographic['Essential hypertension'] == e) & \n",
    "            (demographic['Osteoarthritis'] == o)\n",
    "        ].shape[0]\n",
    "        print(f'Hypertension: {e}, Osteoarthritis: {o}, Count: {count}')"
   ]
  },
  {
   "cell_type": "code",
   "execution_count": null,
   "id": "74cdc4fc",
   "metadata": {},
   "outputs": [],
   "source": [
    "demographic['Essential hypertension'].isna().sum(),demographic['Osteoarthritis'].isna().sum()"
   ]
  },
  {
   "cell_type": "code",
   "execution_count": null,
   "id": "667b74cb",
   "metadata": {},
   "outputs": [],
   "source": [
    "demographic.Sex.isna().sum(),(demographic.Sex=='Male').sum(),(demographic.Sex=='Female').sum()"
   ]
  },
  {
   "cell_type": "code",
   "execution_count": null,
   "id": "66b23285",
   "metadata": {},
   "outputs": [],
   "source": [
    "age_group_counts = demographic['Age group'].value_counts(dropna=True)\n",
    "print(\"Counts for each age group:\")\n",
    "print(age_group_counts)"
   ]
  },
  {
   "cell_type": "code",
   "execution_count": null,
   "id": "0218942a",
   "metadata": {},
   "outputs": [],
   "source": [
    "## add demographic information to aggreated daily data\n",
    "all_users_daily['Sex'] = all_users_daily['user_id'].apply(lambda x:demographic.loc[demographic.user_id==x,'Sex'].values[0])\n",
    "all_users_daily['Age group'] = all_users_daily['user_id'].apply(lambda x:demographic.loc[demographic.user_id==x,'Age group'].values[0])\n",
    "print(all_users_daily.columns)"
   ]
  },
  {
   "cell_type": "code",
   "execution_count": null,
   "id": "95d6ff99",
   "metadata": {},
   "outputs": [],
   "source": [
    "import pickle\n",
    "# Saving the variables.\n",
    "data_to_save = {\n",
    "    \"df\": all_users_daily, # Daily processed data for all users\n",
    "    \"demographics\": demographic # Demographic information of users\n",
    "}\n",
    "# Create \"preprocessed_data.pkl\" in write-binary mode\n",
    "with open(\"preprocessed_data.pkl\", \"wb\") as f:\n",
    "    pickle.dump(data_to_save, f)"
   ]
  }
 ],
 "metadata": {
  "kernelspec": {
   "display_name": "Python 3",
   "language": "python",
   "name": "python3"
  },
  "language_info": {
   "codemirror_mode": {
    "name": "ipython",
    "version": 3
   },
   "file_extension": ".py",
   "mimetype": "text/x-python",
   "name": "python",
   "nbconvert_exporter": "python",
   "pygments_lexer": "ipython3",
   "version": "3.12.6"
  }
 },
 "nbformat": 4,
 "nbformat_minor": 5
}
