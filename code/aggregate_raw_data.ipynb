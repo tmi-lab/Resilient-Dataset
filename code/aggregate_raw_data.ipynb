{
 "cells": [
  {
   "cell_type": "code",
   "execution_count": 1,
   "id": "592b75b3",
   "metadata": {},
   "outputs": [],
   "source": [
    "import numpy as np\n",
    "import pandas as pd\n",
    "import os\n",
    "import scipy as sp\n",
    "import seaborn as sns\n",
    "import matplotlib.pyplot as plt\n",
    "from datetime import datetime\n",
    "import sys\n",
    "import os"
   ]
  },
  {
   "cell_type": "code",
   "execution_count": 2,
   "id": "e1c52c9b",
   "metadata": {},
   "outputs": [],
   "source": [
    "%matplotlib inline"
   ]
  },
  {
   "cell_type": "code",
   "execution_count": 67,
   "id": "d8a4a7db",
   "metadata": {},
   "outputs": [],
   "source": [
    "def process_user_scanwatch_activity(watch_u):\n",
    "    sub_daily = []\n",
    "    for watch_u_sub in watch_u:\n",
    "        hr = False\n",
    "        for c in watch_u_sub.columns:\n",
    "            if \"date\" in c:\n",
    "                watch_u_sub[c] = pd.to_datetime(watch_u_sub[c], utc=True).dt.date\n",
    "                date_col = c\n",
    "            if \"Heart Rate\" in c or \"HR\" in c:\n",
    "                hr = True\n",
    "        if hr:\n",
    "            sub_daily.append(watch_u_sub.groupby(date_col).agg({\"Heart Rate\":['mean','min','max']}))\n",
    "            sub_daily[-1].columns = ['_'.join(col).strip() for col in sub_daily[-1].columns.values]\n",
    "        else:\n",
    "            sub_daily.append(watch_u_sub.groupby(date_col).sum())\n",
    "    return pd.concat(sub_daily,axis=1)\n",
    "    "
   ]
  },
  {
   "cell_type": "code",
   "execution_count": 95,
   "id": "8659b1de",
   "metadata": {},
   "outputs": [],
   "source": [
    "def process_user_sleep_state(sleep_u):\n",
    "    for c in sleep_u.columns:\n",
    "        if \"date\" in c:\n",
    "            sleep_u[c] = pd.to_datetime(sleep_u[c], utc=True)\n",
    "\n",
    "    sleep_u['startdate'] = sleep_u['startdate'] - pd.to_timedelta(12, unit='h')\n",
    "    sleep_u['enddate'] = sleep_u['enddate'] - pd.to_timedelta(12, unit='h')\n",
    "    sleep_u['sleep_state_duration'] = (sleep_u['enddate'] - sleep_u['startdate']).astype('timedelta64[m]')\n",
    "    sleep_u['date'] = sleep_u['startdate'].dt.date\n",
    "\n",
    "    one_hot = pd.get_dummies(sleep_u['Sleep state'])\n",
    "    one_hot = one_hot.rename({0:\"wakeup\",1:\"light\",2:\"deep\",3:\"REM\",4:\"manual\",5:\"unspecified\"},axis=1)\n",
    "    one_hot[one_hot.columns] = one_hot.values * sleep_u['sleep_state_duration'].values.reshape(-1,1)\n",
    "\n",
    "    sleep_daily = pd.concat([sleep_u['date'],one_hot],axis=1)\n",
    "    sleep_daily = sleep_daily.groupby('date').sum()\n",
    "    return sleep_daily"
   ]
  },
  {
   "cell_type": "code",
   "execution_count": 85,
   "id": "8453b804",
   "metadata": {},
   "outputs": [],
   "source": [
    "def process_user_sleep_physio(sleep_u):\n",
    "    for c in sleep_u.columns:\n",
    "        if \"date\" in c:\n",
    "            sleep_u[c] = pd.to_datetime(sleep_u[c], utc=True)        \n",
    "    ## the timestamps of physio features are the same\n",
    "    sleep_u['date'] = sleep_u['Heart Rate date'].dt.date\n",
    "    \n",
    "    sleep_u = sleep_u.groupby('date').agg({\"Heart Rate\":['mean','min','max'],\"Respiration rate\":['mean','min','max'],\"Snoring\":'sum',\"sdnn_1\":['mean','min','max']})\n",
    "    sleep_u.columns = ['_'.join(col).strip() for col in sleep_u.columns.values]\n",
    "    return sleep_u"
   ]
  },
  {
   "cell_type": "code",
   "execution_count": 100,
   "id": "5265b447",
   "metadata": {
    "scrolled": true
   },
   "outputs": [
    {
     "name": "stdout",
     "output_type": "stream",
     "text": [
      "user id:  7a61b537\n",
      "user id:  31489056\n",
      "user id:  f276ebe4\n",
      "user id:  f5ca38f7\n",
      "user id:  4ec9599f\n",
      "user id:  9400f1b2\n",
      "user id:  2c624232\n",
      "user id:  811786ad\n",
      "user id:  2858dcd1\n",
      "user id:  bf6dbcba\n",
      "user id:  .DS_Store\n",
      "not dir:  ../data/Sleepmat_Watch_Data/.DS_Store\n",
      "user id:  b7a56873\n",
      "user id:  eb1e33e8\n",
      "user id:  3d914f93\n",
      "user id:  6b51d431\n",
      "user id:  8527a891\n",
      "user id:  c6f3ac57\n",
      "user id:  ddd9cd98\n",
      "user id:  73475cb4\n",
      "user id:  4a44dc15\n",
      "user id:  44cb730c\n",
      "user id:  4b227777\n",
      "user id:  1a656259\n",
      "user id:  5e86cb4b\n",
      "user id:  25fc0e70\n",
      "user id:  ef2d127d\n",
      "user id:  4e074085\n",
      "user id:  4523540f\n",
      "user id:  3ff1feb9\n",
      "user id:  76a50887\n",
      "user id:  44d88da8\n",
      "user id:  2fca346d\n",
      "user id:  535fa30d\n",
      "user id:  6b86b273\n",
      "user id:  86e50149\n",
      "user id:  41cfc0d1\n",
      "user id:  c2356069\n",
      "user id:  0e17daca\n",
      "user id:  35135aaa\n",
      "user id:  e629fa65\n",
      "user id:  71ee45a3\n",
      "user id:  0b918943\n",
      "user id:  5f9c4ab0\n",
      "user id:  c6d2115a\n",
      "user id:  4fc82b26\n",
      "user id:  41d8fe4e\n",
      "user id:  7077831c\n",
      "user id:  b17ef6d1\n",
      "user id:  98010bd9\n",
      "user id:  e7f6c011\n",
      "user id:  7688b6ef\n",
      "user id:  59e19706\n",
      "user id:  6f4b6612\n",
      "user id:  19581e27\n",
      "user id:  7902699b\n",
      "user id:  51841482\n",
      "user id:  aea92132\n",
      "user id:  624b60c5\n",
      "user id:  9f14025a\n",
      "user id:  e29c9c18\n",
      "user id:  031b4af5\n",
      "user id:  670671cd\n",
      "user id:  785f3ec7\n",
      "user id:  21b5f52d\n",
      "user id:  df4f4518\n",
      "user id:  327ec92a\n"
     ]
    }
   ],
   "source": [
    "## read raw sleep data of each participant\n",
    "path = \"../data/Sleepmat_Watch_Data/\"\n",
    "files = os.listdir(path)\n",
    "all_users_daily = pd.DataFrame()\n",
    "for i,uid in enumerate(files):\n",
    "    print('user id: ',uid)\n",
    "\n",
    "    fpath = os.path.join(path,uid)\n",
    "    if not os.path.isdir(fpath):\n",
    "        print('not dir: ',fpath)\n",
    "        continue\n",
    "    try:\n",
    "        watch_u_hr = pd.read_csv(os.path.join(fpath,\"ScanWatch_HR.csv\"))\n",
    "        watch_u_stp = pd.read_csv(os.path.join(fpath,\"ScanWatch_Steps.csv\"))\n",
    "        watch_u_ca = pd.read_csv(os.path.join(fpath,\"ScanWatch_Calories.csv\"))\n",
    "        watch_u = [watch_u_hr,watch_u_stp,watch_u_ca]\n",
    "        \n",
    "        sleep_u_state = pd.read_csv(os.path.join(fpath,\"Sleep_state.csv\"))\n",
    "        sleep_u_physio = pd.read_csv(os.path.join(fpath,\"Sleep_physio.csv\"))\n",
    "    except FileNotFoundError:\n",
    "        print(fpath+'not exist')\n",
    "\n",
    "    \n",
    "    watch_u_daily = process_user_scanwatch_activity(watch_u)\n",
    "    watch_u_daily = watch_u_daily.rename(columns={c:'Watch_'+c for c in watch_u_daily.columns})\n",
    "    \n",
    "    sleep_u_state_daily = process_user_sleep_state(sleep_u_state)\n",
    "    sleep_u_phsio_daily = process_user_sleep_physio(sleep_u_physio)\n",
    "    \n",
    "    user_daily = pd.concat([watch_u_daily,sleep_u_state_daily,sleep_u_phsio_daily],axis=1)\n",
    "    user_daily[\"user_id\"] = uid\n",
    "    \n",
    "    \n",
    "    all_users_daily = pd.concat([all_users_daily,user_daily],axis=0)\n",
    "    \n",
    "\n",
    "    \n",
    "# all_users_daily['date']=pd.to_datetime(all_users_daily['date'],utc=True)\n",
    "# all_users_daily=all_users_daily.reset_index()\n",
    "# all_users_daily=all_users_daily.drop('index',axis=1)"
   ]
  },
  {
   "cell_type": "code",
   "execution_count": 101,
   "id": "17c7a2af",
   "metadata": {},
   "outputs": [
    {
     "data": {
      "text/plain": [
       "Index(['Watch_Heart Rate_mean', 'Watch_Heart Rate_min', 'Watch_Heart Rate_max',\n",
       "       'Watch_Steps', 'Watch_Calories', 'wakeup', 'light', 'deep', 'REM',\n",
       "       'Heart Rate_mean', 'Heart Rate_min', 'Heart Rate_max',\n",
       "       'Respiration rate_mean', 'Respiration rate_min', 'Respiration rate_max',\n",
       "       'Snoring_sum', 'sdnn_1_mean', 'sdnn_1_min', 'sdnn_1_max', 'user_id'],\n",
       "      dtype='object')"
      ]
     },
     "execution_count": 101,
     "metadata": {},
     "output_type": "execute_result"
    }
   ],
   "source": [
    "all_users_daily.columns"
   ]
  },
  {
   "cell_type": "code",
   "execution_count": 104,
   "id": "48a24b8f",
   "metadata": {},
   "outputs": [
    {
     "data": {
      "text/plain": [
       "65"
      ]
     },
     "execution_count": 104,
     "metadata": {},
     "output_type": "execute_result"
    }
   ],
   "source": [
    "all_users_daily.user_id.nunique()"
   ]
  },
  {
   "cell_type": "code",
   "execution_count": null,
   "id": "10ca99b7",
   "metadata": {},
   "outputs": [],
   "source": []
  }
 ],
 "metadata": {
  "kernelspec": {
   "display_name": "py39",
   "language": "python",
   "name": "py39"
  },
  "language_info": {
   "codemirror_mode": {
    "name": "ipython",
    "version": 3
   },
   "file_extension": ".py",
   "mimetype": "text/x-python",
   "name": "python",
   "nbconvert_exporter": "python",
   "pygments_lexer": "ipython3",
   "version": "3.9.15"
  }
 },
 "nbformat": 4,
 "nbformat_minor": 5
}
