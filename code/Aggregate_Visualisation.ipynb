{
 "cells": [
  {
   "cell_type": "code",
   "execution_count": null,
   "id": "592b75b3",
   "metadata": {},
   "outputs": [],
   "source": [
    "import numpy as np\n",
    "import pandas as pd\n",
    "import os\n",
    "import scipy as sp\n",
    "import seaborn as sns\n",
    "import matplotlib.pyplot as plt\n",
    "from datetime import datetime\n",
    "from dateutil.relativedelta import relativedelta\n",
    "import matplotlib.dates as mdates\n",
    "import sys\n",
    "import os\n",
    "\n",
    "import warnings\n",
    "warnings.filterwarnings('ignore')"
   ]
  },
  {
   "cell_type": "code",
   "execution_count": null,
   "id": "e1c52c9b",
   "metadata": {},
   "outputs": [],
   "source": [
    "%matplotlib inline"
   ]
  },
  {
   "cell_type": "code",
   "execution_count": null,
   "id": "a2e8dd82",
   "metadata": {},
   "outputs": [],
   "source": [
    "def process_user_scanwatch_activity(watch_u):\n",
    "    sub_daily = []\n",
    "    for watch_u_sub in watch_u:\n",
    "        hr = False\n",
    "        for c in watch_u_sub.columns:\n",
    "            if \"Timestamp\" in c:\n",
    "                watch_u_sub[c] = pd.to_datetime(watch_u_sub[c], utc=True).dt.date\n",
    "                date_col = c\n",
    "            if \"Heart Rate\" in c or \"HR\" in c:\n",
    "                hr = True\n",
    "        if hr:\n",
    "            sub_daily.append(watch_u_sub.groupby(date_col).agg({\"Heart Rate\":['mean','min','max']}))\n",
    "            sub_daily[-1].columns = ['_'.join(col).strip() for col in sub_daily[-1].columns.values]\n",
    "        else:\n",
    "            sub_daily.append(watch_u_sub.groupby(date_col).sum())\n",
    "    return pd.concat(sub_daily,axis=1)\n",
    "    "
   ]
  },
  {
   "cell_type": "code",
   "execution_count": null,
   "id": "8659b1de",
   "metadata": {},
   "outputs": [],
   "source": [
    "def process_user_sleep_state(sleep_u):\n",
    "    for c in sleep_u.columns:\n",
    "        if \"time\" in c:\n",
    "            sleep_u[c] = pd.to_datetime(sleep_u[c], utc=True)\n",
    "\n",
    "    sleep_u['Start time'] = sleep_u['Start time'] - pd.to_timedelta(12, unit='h')\n",
    "    sleep_u['End time'] = sleep_u['End time'] - pd.to_timedelta(12, unit='h')\n",
    "    sleep_u['sleep_state_duration'] = (sleep_u['End time'] - sleep_u['Start time']).astype('timedelta64[s]').astype(int)/60\n",
    "    sleep_u['date'] = sleep_u['Start time'].dt.date\n",
    "\n",
    "    one_hot = pd.get_dummies(sleep_u['Sleep state'])\n",
    "    one_hot[one_hot.columns] = one_hot.values * sleep_u['sleep_state_duration'].values.reshape(-1,1)\n",
    "\n",
    "    sleep_daily = pd.concat([sleep_u['date'],one_hot],axis=1)\n",
    "    sleep_daily = sleep_daily.groupby('date').sum()\n",
    "    return sleep_daily"
   ]
  },
  {
   "cell_type": "code",
   "execution_count": null,
   "id": "f954f2fd",
   "metadata": {},
   "outputs": [],
   "source": [
    "def process_user_sleep_physio(sleep_u):\n",
    "    for c in sleep_u.columns:\n",
    "        if \"Timestamp\" in c:\n",
    "            sleep_u[c] = pd.to_datetime(sleep_u[c], utc=True)        \n",
    "    ## the timestamps of physio features are the same\n",
    "    sleep_u['date'] = sleep_u['Timestamp'].dt.date\n",
    "    \n",
    "    sleep_u = sleep_u.groupby('date').agg({\"Heart Rate\":['mean','min','max'],\"Respiration Rate\":['mean','min','max'],\"Snoring\":'sum',\"SDNN_1\":['mean','min','max']})\n",
    "    sleep_u.columns = ['_'.join(col).strip() for col in sleep_u.columns.values]\n",
    "    return sleep_u"
   ]
  },
  {
   "cell_type": "markdown",
   "id": "c242a1eb",
   "metadata": {},
   "source": [
    "## Read and aggregate individual data from devices on a daily basis"
   ]
  },
  {
   "cell_type": "code",
   "execution_count": null,
   "id": "5265b447",
   "metadata": {
    "scrolled": true
   },
   "outputs": [],
   "source": [
    "## read raw sleep data of each participant\n",
    "path = \"./Sleepmat_Watch_Data\"\n",
    "files = os.listdir(path)\n",
    "all_users_daily = pd.DataFrame()\n",
    "for i,uid in enumerate(files):\n",
    "    print('user id: ',uid)\n",
    "\n",
    "    fpath = os.path.join(path,uid)\n",
    "    if not os.path.isdir(fpath):\n",
    "        print('not dir: ',fpath)\n",
    "        continue\n",
    "    try:\n",
    "        watch_u_hr = pd.read_csv(os.path.join(fpath,\"ScanWatch_HR.csv\"))\n",
    "        watch_u_stp = pd.read_csv(os.path.join(fpath,\"ScanWatch_Steps.csv\"))\n",
    "        watch_u = [watch_u_hr,watch_u_stp]\n",
    "        \n",
    "        sleep_u_state = pd.read_csv(os.path.join(fpath,\"Sleep_state.csv\"))\n",
    "        sleep_u_state = sleep_u_state.drop_duplicates()\n",
    "        sleep_u_physio = pd.read_csv(os.path.join(fpath,\"Sleep_physio.csv\"))\n",
    "        sleep_u_physio = sleep_u_physio.drop_duplicates()\n",
    "    except FileNotFoundError:\n",
    "        print(fpath+'not exist')\n",
    "\n",
    "    \n",
    "    watch_u_daily = process_user_scanwatch_activity(watch_u)\n",
    "    watch_u_daily = watch_u_daily.rename(columns={c:'Watch_'+c for c in watch_u_daily.columns})\n",
    "    \n",
    "    sleep_u_state_daily = process_user_sleep_state(sleep_u_state)\n",
    "    sleep_u_phsio_daily = process_user_sleep_physio(sleep_u_physio)\n",
    "    \n",
    "    user_daily = pd.concat([watch_u_daily,sleep_u_state_daily,sleep_u_phsio_daily],axis=1)\n",
    "    user_daily[\"user_id\"] = uid\n",
    "    \n",
    "    \n",
    "    all_users_daily = pd.concat([all_users_daily,user_daily],axis=0)\n",
    "all_users_daily = all_users_daily.reset_index()    "
   ]
  },
  {
   "cell_type": "code",
   "execution_count": null,
   "id": "17c7a2af",
   "metadata": {},
   "outputs": [],
   "source": [
    "all_users_daily = all_users_daily.rename(columns={\"index\":\"date\"})\n",
    "all_users_daily.head()"
   ]
  },
  {
   "cell_type": "code",
   "execution_count": null,
   "id": "850cc842",
   "metadata": {},
   "outputs": [],
   "source": [
    "## drop sleep data that are invalid\n",
    "all_users_daily.drop(all_users_daily.loc[(all_users_daily.deep!=0)&(all_users_daily.light==0)].index,axis=0,inplace=True)\n",
    "all_users_daily.drop(all_users_daily.loc[(all_users_daily.light==0)&(all_users_daily.REM!=0)].index,axis=0,inplace=True)\n",
    "all_users_daily.drop(all_users_daily.loc[(all_users_daily.light==0)&(all_users_daily.REM==0)&(all_users_daily.deep==0)].index,axis=0,inplace=True)"
   ]
  },
  {
   "cell_type": "code",
   "execution_count": null,
   "id": "00861301",
   "metadata": {},
   "outputs": [],
   "source": [
    "all_users_daily['sleep_duration'] = all_users_daily[['light', 'deep', 'REM']].sum(axis=1)\n",
    "all_users_daily.loc[all_users_daily[['light', 'deep', 'REM']].isna().sum(axis=1)==3,'sleep_duration']=np.nan\n",
    "all_users_daily.drop(all_users_daily.loc[all_users_daily.sleep_duration>18*60].index,axis=0,inplace=True)\n",
    "all_users_daily.columns"
   ]
  },
  {
   "cell_type": "markdown",
   "id": "b340feee",
   "metadata": {},
   "source": [
    "## Load demographic information"
   ]
  },
  {
   "cell_type": "code",
   "execution_count": null,
   "id": "a2d4b33b",
   "metadata": {},
   "outputs": [],
   "source": [
    "demographic = pd.read_csv('./Demographics.csv')\n",
    "demographic.head()"
   ]
  },
  {
   "cell_type": "code",
   "execution_count": null,
   "id": "dd2bd238",
   "metadata": {},
   "outputs": [],
   "source": [
    "print(list(demographic.columns))"
   ]
  },
  {
   "cell_type": "code",
   "execution_count": null,
   "id": "7ad43d9f",
   "metadata": {},
   "outputs": [],
   "source": [
    "\n",
    "# Correcting column name and iterating over booleans\n",
    "for e in [True, False]:\n",
    "    for o in [True, False]:\n",
    "        count = demographic.loc[\n",
    "            (demographic['Essential hypertension'] == e) & \n",
    "            (demographic['Osteoarthritis'] == o)\n",
    "        ].shape[0]\n",
    "        print(f'Hypertension: {e}, Osteoarthritis: {o}, Count: {count}')"
   ]
  },
  {
   "cell_type": "code",
   "execution_count": null,
   "id": "74cdc4fc",
   "metadata": {},
   "outputs": [],
   "source": [
    "demographic['Essential hypertension'].isna().sum(),demographic['Osteoarthritis'].isna().sum()"
   ]
  },
  {
   "cell_type": "code",
   "execution_count": null,
   "id": "667b74cb",
   "metadata": {},
   "outputs": [],
   "source": [
    "demographic.Sex.isna().sum(),(demographic.Sex=='Male').sum(),(demographic.Sex=='Female').sum()"
   ]
  },
  {
   "cell_type": "code",
   "execution_count": null,
   "id": "66b23285",
   "metadata": {},
   "outputs": [],
   "source": [
    "age_group_counts = demographic['Age group'].value_counts(dropna=True)\n",
    "print(\"Counts for each age group:\")\n",
    "print(age_group_counts)"
   ]
  },
  {
   "cell_type": "code",
   "execution_count": null,
   "id": "0218942a",
   "metadata": {},
   "outputs": [],
   "source": [
    "## add demographic information to aggreated daily data\n",
    "all_users_daily['Sex'] = all_users_daily['user_id'].apply(lambda x:demographic.loc[demographic.user_id==x,'Sex'].values[0])\n",
    "all_users_daily['Age group'] = all_users_daily['user_id'].apply(lambda x:demographic.loc[demographic.user_id==x,'Age group'].values[0])\n",
    "print(all_users_daily.columns)"
   ]
  },
  {
   "cell_type": "markdown",
   "id": "e87a3caf",
   "metadata": {},
   "source": [
    "## Visualize baseline scores by histograms"
   ]
  },
  {
   "cell_type": "code",
   "execution_count": null,
   "id": "0ce65d1c",
   "metadata": {
    "scrolled": true
   },
   "outputs": [],
   "source": [
    "## Mental Health assesments histograms\n",
    "range_dict = {'ace_total':(60,96,10),'phq_total':(0,27,10),'gds15_total':(0,15,6),'gad_total':(0,21,8)}\n",
    "ass_names = {\"ace_total\":\"ACE-III\",\"phq_total\":\"PHQ-9\",\"gds15_total\":\"GDS-15\",\"gad_total\":\"GAD-7\"}\n",
    "colors = sns.color_palette(\"pastel\", n_colors=4)\n",
    "for n,col in enumerate(['ace_total','phq_total','gds15_total','gad_total']):\n",
    "    plt.figure(figsize=(5, 4))\n",
    "    values = demographic[col].values.astype(int)\n",
    "    values = values[values>0]\n",
    "    bin_edges = np.linspace(range_dict[col][0], range_dict[col][1], num=range_dict[col][2])\n",
    "    bin_centers = (bin_edges[:-1] + bin_edges[1:]) / 2\n",
    "\n",
    "    sns.histplot(values, bins=bin_edges, alpha=0.7,color=colors[n])\n",
    "\n",
    "    plt.xlabel(ass_names[col],fontsize=14)\n",
    "    plt.grid(True, linestyle='--', alpha=0.7)\n",
    "    plt.xticks([bin_edges[i] for i in range(len(bin_edges))])\n",
    "    plt.savefig('hist_'+col+'.pdf',bbox_inches='tight')\n",
    "    fig = plt.gcf()\n",
    "    width, height = fig.get_size_inches()\n",
    "    print(f\"{col}: {width:.2f} x {height:.2f} inches\")"
   ]
  },
  {
   "cell_type": "markdown",
   "id": "48b88992",
   "metadata": {},
   "source": [
    "### Histograms stratified by sex"
   ]
  },
  {
   "cell_type": "code",
   "execution_count": null,
   "id": "f11b0cbb",
   "metadata": {},
   "outputs": [],
   "source": [
    "## Mental Health assesments histograms (Stratified by Sex)\n",
    "range_dict = {\n",
    "    'ace_total': (60, 96, 10),\n",
    "    'phq_total': (0, 27, 10),\n",
    "    'gds15_total': (0, 15, 6),\n",
    "    'gad_total': (0, 21, 8)\n",
    "}\n",
    "color_map = {\n",
    "    'ace_total': {'Male':\"#002DB4\", 'Female': \"#6173FD\"}, \n",
    "    'phq_total': {'Male': \"#FF6411\", 'Female': \"#FF8C5EE2\"},   \n",
    "    'gds15_total': {'Male': '#A9A9A9', 'Female': '#D3D3D3'}, \n",
    "    'gad_total': {'Male': \"#C80000\", 'Female': \"#CB6D6DFF\"},   \n",
    "}\n",
    "ass_names = {\n",
    "    'ace_total': 'ACE-III',\n",
    "    'phq_total': 'PHQ-9',\n",
    "    'gds15_total': 'GDS-15',\n",
    "    'gad_total': 'GAD-7'\n",
    "}\n",
    "\n",
    "sex_labels = demographic['Sex'].dropna().unique()\n",
    "\n",
    "for col in ['ace_total', 'phq_total', 'gds15_total', 'gad_total']:\n",
    "    plt.figure(figsize=(5, 4))\n",
    "    bin_edges = np.linspace(\n",
    "        range_dict[col][0],\n",
    "        range_dict[col][1],\n",
    "        num=range_dict[col][2] + 1\n",
    "    )\n",
    "\n",
    "    for sex in sex_labels:\n",
    "        values = demographic[demographic['Sex'] == sex][col].dropna().astype(int)\n",
    "        values = values[values > 0]\n",
    "        color = color_map.get(col, {}).get(sex, 'gray')\n",
    "        # Plot histogram\n",
    "        sns.histplot(values, bins=bin_edges, kde=False, color=color, label=str(sex), alpha=0.7)\n",
    "\n",
    "    plt.xlabel(ass_names[col], fontsize=14)\n",
    "    plt.xticks([int(bin_edges[i]) for i in range(len(bin_edges))])\n",
    "    plt.ylabel('Count')\n",
    "    plt.grid(True, linestyle='--', alpha=0.7)\n",
    "\n",
    "    plt.legend(title='Sex',fontsize=14)\n",
    "    plt.tight_layout()\n",
    "    plt.savefig(f'hist_stratified_{col}.pdf', bbox_inches='tight')\n",
    "    plt.show()\n",
    "    plt.close()\n"
   ]
  },
  {
   "cell_type": "markdown",
   "id": "3144029a",
   "metadata": {},
   "source": [
    "### Histograms stratified by Age group"
   ]
  },
  {
   "cell_type": "code",
   "execution_count": null,
   "id": "06ad3588",
   "metadata": {},
   "outputs": [],
   "source": [
    "## Mental Health assesments histograms (Stratified by Age)\n",
    "age_groups = sorted(demographic['Age group'].dropna().unique())\n",
    "palette = sns.color_palette(\"Set2\", n_colors=len(age_groups))\n",
    "\n",
    "for col in ['ace_total', 'phq_total', 'gds15_total', 'gad_total']:\n",
    "    plt.figure(figsize=(6, 4))\n",
    "    bin_edges = np.linspace(range_dict[col][0], range_dict[col][1], num=range_dict[col][2])\n",
    "    for age_group, color in zip(age_groups, palette):\n",
    "        subset = demographic[(demographic['Age group'] == age_group) & (demographic[col] > 0)]\n",
    "        values = subset[col].astype(int)\n",
    "        sns.histplot(values, bins=bin_edges, alpha=0.6, label=age_group, color=color)\n",
    "\n",
    "    plt.xlabel(ass_names[col], fontsize=14)\n",
    "    plt.ylabel('Count')\n",
    "    plt.title(f'{ass_names[col]} by Age Group')\n",
    "    plt.legend(title='Age Group')\n",
    "    plt.grid(True, linestyle='--', alpha=0.6)\n",
    "    plt.tight_layout()\n",
    "    plt.savefig(f'hist_{col}_by_agegroup.pdf')"
   ]
  },
  {
   "cell_type": "markdown",
   "id": "8be986de",
   "metadata": {},
   "source": [
    "## Visualize the number of participants in the study along time axis"
   ]
  },
  {
   "cell_type": "code",
   "execution_count": null,
   "id": "444981e9",
   "metadata": {},
   "outputs": [],
   "source": [
    "\n",
    "demographic['phq_date']=pd.to_datetime(demographic['phq_date'])\n",
    "\n",
    "# Group by join date to count new users per day\n",
    "daily_users = demographic.groupby('phq_date').size().reset_index(name='new_users')\n",
    "\n",
    "# Create a continuous date range covering the entire study period\n",
    "date_range = pd.date_range(start=demographic['phq_date'].min(), end=demographic['phq_date'].max())\n",
    "\n",
    "# Build a DataFrame with the full date range and merge with the new users data\n",
    "daily_users_full = pd.DataFrame({'phq_date': date_range})\n",
    "daily_users_full = daily_users_full.merge(daily_users, on='phq_date', how='left')\n",
    "daily_users_full['new_users'] = daily_users_full['new_users'].fillna(0)\n",
    "\n",
    "# Compute the cumulative number of users over time\n",
    "daily_users_full['cumulative_users'] = daily_users_full['new_users'].cumsum()\n",
    "\n",
    "# Plot the cumulative number of users\n",
    "plt.figure(figsize=(9, 3))\n",
    "plt.plot(daily_users_full['phq_date'], daily_users_full['cumulative_users'], \n",
    "          linestyle='-')\n",
    "# plt.xlabel('Date')\n",
    "plt.ylabel('Number of Participants')\n",
    "plt.title('Number of Participants in the Study Over Time')\n",
    "plt.grid(True, linestyle='--', alpha=0.7)\n",
    "plt.xticks(rotation=45)\n",
    "plt.savefig('num_participants.svg',bbox_inches='tight')"
   ]
  },
  {
   "cell_type": "code",
   "execution_count": null,
   "id": "1f32ae69",
   "metadata": {},
   "outputs": [],
   "source": [
    "user_durations = all_users_daily.groupby('user_id')['date'].agg(lambda x: x.nunique())\n",
    "plt.figure(figsize=(5, 3))\n",
    "bin_edges = np.linspace(10, 200, num=20)\n",
    "bin_centers = (bin_edges[:-1] + bin_edges[1:]) / 2\n",
    "\n",
    "sns.histplot(user_durations.values, bins=bin_edges, alpha=0.7)\n",
    "\n",
    "plt.xlabel('Number of Days')\n",
    "plt.ylim(0,40)\n",
    "plt.xlim(0,195)\n",
    "plt.title('Distribution of Time Duration per Participant')\n",
    "plt.grid(True, linestyle='--', alpha=0.7)\n",
    "plt.xticks([bin_centers[i] for i in range(len(bin_centers)) if i%2==1])\n",
    "plt.savefig('overview_days.svg',bbox_inches='tight')"
   ]
  },
  {
   "cell_type": "markdown",
   "id": "b18dc8d6",
   "metadata": {},
   "source": [
    "## Visualize variable distributions by sex groups"
   ]
  },
  {
   "cell_type": "code",
   "execution_count": null,
   "id": "46ee49b5",
   "metadata": {},
   "outputs": [],
   "source": [
    "fig, axes = plt.subplots(1, 3, figsize=(20, 5))\n",
    "\n",
    "sns.boxplot(x='Sex', y='Watch_Steps', data=all_users_daily, ax=axes[0], palette=\"pastel\")\n",
    "sns.boxplot(x='Sex', y='sleep_duration', data=all_users_daily, ax=axes[1], palette=\"pastel\")\n",
    "sns.boxplot(x='Sex', y='Watch_Heart Rate_mean', data=all_users_daily, ax=axes[2], palette=\"pastel\")\n",
    "\n",
    "axes[0].set_xlabel(\"Sex\",fontsize=14)\n",
    "axes[0].set_ylabel(\"Steps per Day\",fontsize=14)\n",
    "axes[0].grid(True, linestyle='--', alpha=0.7)\n",
    "\n",
    "axes[1].set_xlabel(\"Sex\",fontsize=14)\n",
    "axes[1].set_ylabel(\"Sleep Duration per Day\",fontsize=14)\n",
    "axes[1].grid(True, linestyle='--', alpha=0.7)\n",
    "\n",
    "axes[2].set_xlabel(\"Sex\",fontsize=14)\n",
    "axes[2].set_ylabel(\"Avergae Heart Rate per Day\",fontsize=14)\n",
    "axes[2].grid(True, linestyle='--', alpha=0.7)\n",
    "\n",
    "cols = ['Steps','Sleep','HR']\n",
    "for i, ax in enumerate(axes):\n",
    "    tight_bbox = ax.get_tightbbox(fig.canvas.get_renderer()).transformed(fig.dpi_scale_trans.inverted())\n",
    "    fig.savefig(\"sex_\"+cols[i]+\".pdf\", bbox_inches=tight_bbox)\n",
    "\n",
    "\n",
    "# Compute mean and std by Sex for selected columns\n",
    "summary_stats = all_users_daily.groupby('Sex')[['Watch_Steps', 'sleep_duration', 'Watch_Heart Rate_mean']].agg(['mean', 'std'])\n",
    "summary_stats = summary_stats.round(2)\n",
    "print(summary_stats)"
   ]
  },
  {
   "cell_type": "markdown",
   "id": "79b70b51",
   "metadata": {},
   "source": [
    "## Visualize variable distributions by Age groups"
   ]
  },
  {
   "cell_type": "code",
   "execution_count": null,
   "id": "182dea4a",
   "metadata": {},
   "outputs": [],
   "source": [
    "fig, axes = plt.subplots(1, 3, figsize=(20, 5))\n",
    "\n",
    "sns.boxplot(x='Age group', y='Watch_Steps', data=all_users_daily, ax=axes[0], palette=\"pastel\")\n",
    "sns.boxplot(x='Age group', y='sleep_duration', data=all_users_daily, ax=axes[1], palette=\"pastel\")\n",
    "sns.boxplot(x='Age group', y='Watch_Heart Rate_mean', data=all_users_daily, ax=axes[2], palette=\"pastel\")\n",
    "\n",
    "axes[0].set_xlabel(\"Age group\", fontsize=14)\n",
    "axes[0].set_ylabel(\"Steps per Day\", fontsize=14)\n",
    "axes[0].grid(True, linestyle='--', alpha=0.7)\n",
    "\n",
    "axes[1].set_xlabel(\"Age group\", fontsize=14)\n",
    "axes[1].set_ylabel(\"Sleep Duration per Day\", fontsize=14)\n",
    "axes[1].grid(True, linestyle='--', alpha=0.7)\n",
    "\n",
    "axes[2].set_xlabel(\"Age group\", fontsize=14)\n",
    "axes[2].set_ylabel(\"Average Heart Rate per Day\", fontsize=14)\n",
    "axes[2].grid(True, linestyle='--', alpha=0.7)\n",
    "\n",
    "cols = ['Steps', 'Sleep', 'HR']\n",
    "for i, ax in enumerate(axes):\n",
    "    tight_bbox = ax.get_tightbbox(fig.canvas.get_renderer()).transformed(fig.dpi_scale_trans.inverted())\n",
    "    fig.savefig(\"age_\"+cols[i]+\".pdf\", bbox_inches=tight_bbox)\n"
   ]
  },
  {
   "cell_type": "markdown",
   "id": "3716b3f5",
   "metadata": {},
   "source": [
    "## Visualize Correlations between assessments and sleep states in a given time window"
   ]
  },
  {
   "cell_type": "code",
   "execution_count": null,
   "id": "7c52b5a4",
   "metadata": {},
   "outputs": [],
   "source": [
    "def filter_sleep_data(sleep_daily, uid, ass_date, time_window):\n",
    "    \"\"\" Extract sleep data within the specified time window for a user. \"\"\"\n",
    "    ass_date = pd.to_datetime(ass_date)\n",
    "    sleep_range = sleep_daily.loc[\n",
    "        (sleep_daily.user_id == uid) &\n",
    "        (sleep_daily.date > ass_date.date()) &\n",
    "        (sleep_daily.date <= (ass_date + pd.Timedelta(days=time_window)).tz_localize('UTC').date())\n",
    "    ]\n",
    "\n",
    "    return sleep_range"
   ]
  },
  {
   "cell_type": "code",
   "execution_count": null,
   "id": "0a9a9863",
   "metadata": {},
   "outputs": [],
   "source": [
    "def compute_sleep_statistics(sleep_range,sleep_stats):\n",
    "    \"\"\" Compute average and standard deviation of sleep metrics. \"\"\"\n",
    "    if sleep_range.empty:\n",
    "        return None, None\n",
    "\n",
    "    sleep_avg = sleep_range[sleep_stats].mean(axis=0)\n",
    "    sleep_std = sleep_range[sleep_stats].std(axis=0)\n",
    "    \n",
    "    return sleep_avg, sleep_std"
   ]
  },
  {
   "cell_type": "code",
   "execution_count": null,
   "id": "8000e370",
   "metadata": {},
   "outputs": [],
   "source": [
    "def process_single_record(i, uid, sleep_daily, score_summary, ass_cols,sleep_stats):\n",
    "    \"\"\" Process a single record: extract sleep data and fill statistics. \"\"\"\n",
    "    \n",
    "    sleep_avg_cols = [st + \"_avg\" for st in sleep_stats]\n",
    "    sleep_std_cols = [st + \"_std\" for st in sleep_stats]\n",
    "    ass_date = score_summary.loc[score_summary.user_id == uid, ass + \"_date\"].values[0]\n",
    "    sleep_range = filter_sleep_data(sleep_daily, uid, ass_date, time_window)\n",
    "    sleep_avg, sleep_std = compute_sleep_statistics(sleep_range,sleep_stats)\n",
    "\n",
    "    if sleep_avg is None:\n",
    "        print(f\"No matched time window: {uid}, {len(sleep_range)}\")\n",
    "        return None  # Skip this record if no sleep data is found\n",
    "\n",
    "    matched_row = {\"user_id\": uid}\n",
    "    matched_row.update(score_summary.loc[score_summary.user_id == uid, [\"user_id\"] + ass_cols].iloc[0].to_dict())\n",
    "    matched_row.update(dict(zip(sleep_avg_cols, sleep_avg.values)))\n",
    "    matched_row.update(dict(zip(sleep_std_cols, sleep_std.values)))\n",
    "\n",
    "    return matched_row"
   ]
  },
  {
   "cell_type": "code",
   "execution_count": null,
   "id": "e08da41f",
   "metadata": {},
   "outputs": [],
   "source": [
    "def compute_correlations(ass, ass_sleep_corr, time_window,sleep_stats,file_name='sleep'):\n",
    "    \"\"\" Computes and saves correlations across time windows. \"\"\"\n",
    "    sleep_avg_cols = [st + \"_avg\" for st in sleep_stats]\n",
    "    sleep_std_cols = [st + \"_std\" for st in sleep_stats]\n",
    "    ass_sleep_corr = np.vstack(ass_sleep_corr)\n",
    "\n",
    "    ass_sleep_corr_df = pd.DataFrame(ass_sleep_corr, columns=[ass.upper()] + sleep_avg_cols + sleep_std_cols)\n",
    "    return ass_sleep_corr_df"
   ]
  },
  {
   "cell_type": "code",
   "execution_count": null,
   "id": "939e69f1",
   "metadata": {},
   "outputs": [],
   "source": [
    "def get_assessment_columns(score_summary, ass):\n",
    "    \"\"\" Retrieve assessment columns matching the given type and suffix. \"\"\"\n",
    "    return [c for c in score_summary.columns if ass in c and ('total' in c)]\n",
    "\n",
    "def match_sleep_assessment(ass, score_summary, sleep_daily, time_window,sleep_stats,file_name='sleep'):\n",
    "    \"\"\" Processes a single assessment type across different time windows. \"\"\"\n",
    "    ass_sleep_corr = []\n",
    "    sleep_avg_cols = [st + \"_avg\" for st in sleep_stats]\n",
    "    sleep_std_cols = [st + \"_std\" for st in sleep_stats]\n",
    "\n",
    "    ass_cols = get_assessment_columns(score_summary, ass)\n",
    "    uids = score_summary.user_id.unique()\n",
    "    print(ass_cols,sleep_stats)\n",
    "    matched_rows = []\n",
    "    for i, uid in enumerate(uids):\n",
    "        matched_row = process_single_record(i, uid, sleep_daily, score_summary, ass_cols=ass_cols,sleep_stats=sleep_stats)\n",
    "        if matched_row:\n",
    "            matched_rows.append(matched_row)\n",
    "\n",
    "    matched_df = pd.DataFrame(matched_rows)\n",
    "    matched_df.replace([np.inf, -np.inf], np.nan, inplace=True)\n",
    "\n",
    "    ass_sleep_corr.append(matched_df[ass_cols + sleep_avg_cols + sleep_std_cols].values)\n",
    "\n",
    "    return compute_correlations(ass, ass_sleep_corr, time_window,sleep_stats,file_name)"
   ]
  },
  {
   "cell_type": "code",
   "execution_count": null,
   "id": "72abfdb0",
   "metadata": {
    "scrolled": true
   },
   "outputs": [],
   "source": [
    "# Sleep statistics and column names\n",
    "sleep_stats = [\"wakeup\", \"light\", \"deep\", \"REM\"]\n",
    "# Assessment categories and time windows\n",
    "assessments = [\"phq\", \"gad\", \"gds\",\"ace\"]\n",
    "time_window = 7\n",
    "ass_sleep_corr_map = []\n",
    "# Run processing for all assessments\n",
    "for ass in assessments:\n",
    "    corr_map = match_sleep_assessment(ass, demographic, all_users_daily, time_window,sleep_stats)\n",
    "    ass_sleep_corr_map.append(corr_map.corr()[ass.upper()])\n",
    "\n",
    "ass_sleep_corr_map = pd.concat(ass_sleep_corr_map,axis=1).drop([a.upper() for a in assessments],axis=0)"
   ]
  },
  {
   "cell_type": "code",
   "execution_count": null,
   "id": "12c56def",
   "metadata": {},
   "outputs": [],
   "source": [
    "plt.figure(figsize=(8,6))\n",
    "ax = sns.heatmap(ass_sleep_corr_map,cmap='coolwarm',annot=True, fmt=\".3f\")\n",
    "ax.set_xticklabels(['PHQ-9','GAD-7','GDS-15','ACE-III'])\n",
    "ax.set_yticklabels(['Wakeup Avg.','Light Avg.','Deep Avg.','REM Avg.','Wakeup Std.','Light Std.','Deep Std.','REM Std.'])\n",
    "plt.savefig(\"sleep\"+'_'+str(time_window)+\"d_assess_corr_map.pdf\",bbox_inches='tight')"
   ]
  },
  {
   "cell_type": "markdown",
   "id": "83c92875",
   "metadata": {},
   "source": [
    "### Visualize Correlations between assessments and sleep states (Stratified by Sex)"
   ]
  },
  {
   "cell_type": "code",
   "execution_count": null,
   "id": "e20832fc",
   "metadata": {},
   "outputs": [],
   "source": [
    "demographic = demographic.dropna(subset=['Sex'])\n",
    "sex = demographic['Sex'].unique()\n",
    "assessments = [\"phq\", \"gad\", \"gds\", \"ace\"]\n",
    "time_window = 7\n",
    "sleep_stats = [\"wakeup\", \"light\", \"deep\", \"REM\"]\n",
    "\n",
    "grouped_corr_maps = {}\n",
    "for sex in sex:\n",
    "    print(f\"Processing Age Group: {sex}\")\n",
    "    demo_sex = demographic[demographic['Sex'] == sex]\n",
    "    \n",
    "    ass_sleep_corr_map = []\n",
    "    for ass in assessments:\n",
    "        corr_map = match_sleep_assessment(ass, demo_sex, all_users_daily, time_window, sleep_stats)\n",
    "        ass_sleep_corr_map.append(corr_map.corr()[ass.upper()])\n",
    "    \n",
    "    age_corr_df = pd.concat(ass_sleep_corr_map, axis=1).drop([a.upper() for a in assessments], axis=0)\n",
    "    grouped_corr_maps[sex] = age_corr_df\n",
    "\n",
    "all_corr_values = pd.concat(grouped_corr_maps.values()).values.flatten()\n",
    "vmin = all_corr_values.min()\n",
    "vmax = all_corr_values.max()\n",
    "\n",
    "for sex, corr_df in grouped_corr_maps.items():\n",
    "    plt.figure(figsize=(8,6))\n",
    "    ax = sns.heatmap(\n",
    "        corr_df,\n",
    "        cmap='coolwarm',\n",
    "        annot=True,\n",
    "        fmt=\".3f\",\n",
    "        vmin=vmin,\n",
    "        vmax=vmax  # ensures shared color scale\n",
    "    )\n",
    "    ax.set_title(f\"{sex}\")\n",
    "    ax.set_xticklabels(['PHQ-9','GAD-7','GDS-15','ACE-III'])\n",
    "    ax.set_yticklabels(['Wakeup Avg.','Light Avg.','Deep Avg.','REM Avg.','Wakeup Std.','Light Std.','Deep Std.','REM Std.'])\n",
    "    plt.tight_layout()\n",
    "    plt.savefig(f\"Sleep_{sex}_{time_window}d_corr_map.pdf\")"
   ]
  },
  {
   "cell_type": "markdown",
   "id": "d82c88af",
   "metadata": {},
   "source": [
    "## Visualize Correlations between assessments and watch data in a given time window"
   ]
  },
  {
   "cell_type": "code",
   "execution_count": null,
   "id": "e9a3c6d5",
   "metadata": {
    "scrolled": true
   },
   "outputs": [],
   "source": [
    "# Sleep statistics and column names\n",
    "watch_act = ['Watch_Heart Rate_mean', 'Watch_Heart Rate_min', 'Watch_Heart Rate_max', 'Watch_Steps']\n",
    "\n",
    "# Assessment categories and time windows\n",
    "assessments = [\"phq\", \"gad\", \"gds\",\"ace\"]\n",
    "\n",
    "time_window = 7\n",
    "ass_sleep_corr_map = []\n",
    "# Run processing for all assessments\n",
    "for ass in assessments:\n",
    "    corr_map = match_sleep_assessment(ass, demographic, all_users_daily, time_window,watch_act)\n",
    "    ass_sleep_corr_map.append(corr_map.corr()[ass.upper()])\n",
    "ass_sleep_corr_map = pd.concat(ass_sleep_corr_map,axis=1).drop([a.upper() for a in assessments],axis=0)"
   ]
  },
  {
   "cell_type": "code",
   "execution_count": null,
   "id": "e3e818d8",
   "metadata": {},
   "outputs": [],
   "source": [
    "plt.figure(figsize=(8,6))\n",
    "ax = sns.heatmap(ass_sleep_corr_map,cmap='coolwarm',annot=True, fmt=\".3f\")\n",
    "ax.set_xticklabels(['PHQ-9','GAD-7','GDS-15','ACE-III'])\n",
    "ax.set_yticklabels(['Heart Rate Avg.','Heart Rate Min Avg.','Heart Rate Max Avg.','Steps Avg.','Heart Rate Std.','Heart Rate Min Std.','Heart Rate Max Std.','Steps Std.'])\n",
    "plt.savefig(\"watch\"+'_'+str(time_window)+\"d_assess_corr_map.pdf\",bbox_inches='tight')"
   ]
  },
  {
   "cell_type": "markdown",
   "id": "7b0122a7",
   "metadata": {},
   "source": [
    "### Visualize Correlations between assessments and watch data (Stratified by Sex)"
   ]
  },
  {
   "cell_type": "code",
   "execution_count": null,
   "id": "f41b3c93",
   "metadata": {},
   "outputs": [],
   "source": [
    "demographic = demographic.dropna(subset=['Sex'])\n",
    "\n",
    "sex = demographic['Sex'].unique()\n",
    "assessments = [\"phq\", \"gad\", \"gds\", \"ace\"]\n",
    "time_window = 7\n",
    "watch_act = ['Watch_Heart Rate_mean', 'Watch_Heart Rate_min', 'Watch_Heart Rate_max', 'Watch_Steps']\n",
    "\n",
    "grouped_corr_maps = {}\n",
    "\n",
    "for sex in sex:\n",
    "    print(f\"Processing Age Group: {sex}\")\n",
    "    demo_sex = demographic[demographic['Sex'] == sex]\n",
    "    \n",
    "    ass_sleep_corr_map = []\n",
    "    for ass in assessments:\n",
    "        corr_map = match_sleep_assessment(ass, demo_sex, all_users_daily, time_window, watch_act)\n",
    "        ass_sleep_corr_map.append(corr_map.corr()[ass.upper()])\n",
    "    \n",
    "    age_corr_df = pd.concat(ass_sleep_corr_map, axis=1).drop([a.upper() for a in assessments], axis=0)\n",
    "    grouped_corr_maps[sex] = age_corr_df\n",
    "\n",
    "# Get global min and max for consistent color scale\n",
    "all_corr_values = pd.concat(grouped_corr_maps.values()).values.flatten()\n",
    "vmin = all_corr_values.min()\n",
    "vmax = all_corr_values.max()\n",
    "\n",
    "for sex, corr_df in grouped_corr_maps.items():\n",
    "    plt.figure(figsize=(8,6))\n",
    "    ax = sns.heatmap(\n",
    "        corr_df,\n",
    "        cmap='coolwarm',\n",
    "        annot=True,\n",
    "        fmt=\".3f\",\n",
    "        vmin=vmin,\n",
    "        vmax=vmax  # ensures shared color scale\n",
    "    )\n",
    "    ax.set_title(f\"{sex}\")\n",
    "    ax.set_xticklabels(['PHQ-9','GAD-7','GDS-15','ACE-III'])\n",
    "    ax.set_yticklabels(['Heart Rate Avg.','Heart Rate Min Avg.','Heart Rate Max Avg.','Steps Avg.','Heart Rate Std.','Heart Rate Min Std.','Heart Rate Max Std.','Steps Std.'])\n",
    "    plt.tight_layout()\n",
    "    plt.savefig(f\"Watch_{sex}_{time_window}d_corr_map.pdf\")"
   ]
  },
  {
   "cell_type": "markdown",
   "id": "dd1d0721",
   "metadata": {},
   "source": [
    "## Visualize sleep trajectories of individual participants"
   ]
  },
  {
   "cell_type": "code",
   "execution_count": null,
   "id": "ecfb71b1",
   "metadata": {},
   "outputs": [],
   "source": [
    "def obtain_moving_avg(signal,window_size=7,mode='valid',axis=-1):\n",
    "    \n",
    "    # Initialize an array to hold the moving average\n",
    "    moving_avg = np.empty(signal.shape)\n",
    "    moving_squared_mean = np.empty(signal.shape)\n",
    "\n",
    "    # Compute the cumulative average for the initial part\n",
    "    for i in range(window_size-1):\n",
    "        moving_avg[...,i] = np.mean(signal[...,:i+1],axis=axis)\n",
    "        moving_squared_mean[...,i] = np.mean(signal[...,:i+1],axis=axis)**2\n",
    "        \n",
    "    # Compute the moving average for the remaining part\n",
    "    moving_avg[...,window_size-1:] = np.apply_along_axis(lambda m: np.convolve(m, np.ones(window_size)/window_size, mode=mode), axis=axis, arr=signal)\n",
    "\n",
    "    # Compute rolling squared mean using convolution\n",
    "    data_squared = signal ** 2\n",
    "    moving_squared_mean[...,window_size-1:] = np.apply_along_axis(lambda m: np.convolve(m, np.ones(window_size)/window_size, mode=mode), axis=axis, arr=data_squared)\n",
    "    \n",
    "    # Calculate rolling standard deviation\n",
    "    moving_average_squared = moving_avg ** 2\n",
    "    moving_std = np.sqrt(moving_squared_mean - moving_average_squared)\n",
    "\n",
    "    return moving_avg, moving_std"
   ]
  },
  {
   "cell_type": "code",
   "execution_count": null,
   "id": "02fd084b",
   "metadata": {},
   "outputs": [],
   "source": [
    "def get_user_daily_df(uid):\n",
    "    tmp = all_users_daily.loc[all_users_daily.user_id==uid]\n",
    "    if len(tmp)==0:\n",
    "        print('no sleep data for user id ',uid)\n",
    "        return\n",
    "    start_date = tmp['date'].min()\n",
    "    end_date = start_date + pd.Timedelta(days=185) ## half a year range\n",
    "    date_range = pd.date_range(start=start_date, end=end_date, freq='D')\n",
    "    \n",
    "    tmp = tmp[(tmp['date'] >= start_date) & (tmp['date'] < end_date)]\n",
    "    tmp = tmp.set_index('date')\n",
    "\n",
    "    tmp_full = tmp.reindex(date_range)\n",
    "    tmp_full.index.name = 'date'\n",
    "    return tmp_full,start_date,end_date"
   ]
  },
  {
   "cell_type": "code",
   "execution_count": null,
   "id": "5ff8c854",
   "metadata": {},
   "outputs": [],
   "source": [
    "def plot_user_sleep_traj(user_id):\n",
    "    tmp_full,start_date,end_date = get_user_daily_df(user_id)\n",
    "    if tmp_full is None:\n",
    "        return\n",
    "    \n",
    "    sleep_cols = ['light','deep','REM','wakeup']\n",
    "    moving_avg = obtain_moving_avg(tmp_full[sleep_cols].values.transpose(),window_size=7,mode='valid',axis=-1)\n",
    "   \n",
    "    fig,ax=plt.subplots(figsize=[20,4])\n",
    "    ax.plot(tmp_full.index,moving_avg[0][0],linewidth=3)\n",
    "    ax.plot(tmp_full.index,moving_avg[0][1],linewidth=3)\n",
    "    ax.plot(tmp_full.index,moving_avg[0][2],linewidth=3)\n",
    "    ax.plot(tmp_full.index,moving_avg[0][3],linewidth=3)\n",
    "    ax.set_ylim(0,600)\n",
    "    ax.set_xlim(start_date- pd.Timedelta(days=1),end_date+ pd.Timedelta(days=0))\n",
    "    tick_dates = [start_date+relativedelta(months=1*n) for n in range(0,7)]\n",
    "    ax.set_xticks(tick_dates)\n",
    "    ax.tick_params(axis='x', labelsize=14)\n",
    "    ax.tick_params(axis='y', labelsize=14)\n",
    "    \n",
    "    scores = [\"ace_\",\"phq_\",\"gds15_\",\"gad_\"]\n",
    "    # Add vertical lines and annotations\n",
    "    days_offset = 0\n",
    "    sfx = \"baseline\"\n",
    "        \n",
    "    vline_date = start_date + pd.Timedelta(days=days_offset)\n",
    "    for tdt in tick_dates:\n",
    "        ax.axvline(tdt, color=\"red\", linestyle=\"--\", linewidth=1)\n",
    "\n",
    "    \n",
    "    ax.text(vline_date, 580, f\" ACE-III:{demographic.loc[demographic.user_id==uid,scores[0]+'total'].values[0]}\\n PHQ-9: {demographic.loc[demographic.user_id==uid,scores[1]+'total'].values[0]} \\n GDS-15: {demographic.loc[demographic.user_id==uid,scores[2]+'total'].values[0]} \\n GAD-7: {demographic.loc[demographic.user_id==uid,scores[3]+'total'].values[0]}\",  \n",
    "                color=\"red\", fontsize=15, rotation=0, verticalalignment='top')\n",
    "    \n",
    "\n",
    "    ax.set_title(\"UID: \"+uid,fontsize=15)\n",
    "    ax.legend(['light','deep','REM','wakeup'],loc=[.88,0.56],fontsize=16)\n",
    "    plt.ylabel('Duration (s)')\n",
    "    plt.savefig(\"sleep_vis_\"+user_id+\".svg\",bbox_inches=\"tight\")\n",
    "    plt.show()\n",
    "    plt.close()"
   ]
  },
  {
   "cell_type": "code",
   "execution_count": null,
   "id": "16850789",
   "metadata": {
    "scrolled": true
   },
   "outputs": [],
   "source": [
    "uid = '6b86b273'\n",
    "plot_user_sleep_traj(uid)"
   ]
  },
  {
   "cell_type": "markdown",
   "id": "a2a57337",
   "metadata": {},
   "source": [
    "## Visualize steps trajectory for invidual participants"
   ]
  },
  {
   "cell_type": "code",
   "execution_count": null,
   "id": "82d5a418",
   "metadata": {},
   "outputs": [],
   "source": [
    "def plot_user_steps_traj(uid):\n",
    "    tmp = all_users_daily.loc[all_users_daily.user_id==uid]\n",
    "    if len(tmp)==0:\n",
    "        print('no sleep data for user id ',uid)\n",
    "        return\n",
    "    start_date = tmp['date'].min()\n",
    "    end_date = start_date + pd.Timedelta(days=185)\n",
    "    date_range = pd.date_range(start=start_date, end=end_date, freq='D')\n",
    "    \n",
    "    tmp = tmp[(tmp['date'] >= start_date) & (tmp['date'] < end_date)]\n",
    "    tmp = tmp.set_index('date')\n",
    "\n",
    "    tmp_full = tmp.reindex(date_range)\n",
    "    tmp_full.index.name = 'date'\n",
    "    \n",
    "    moving_avg = obtain_moving_avg(tmp_full['Watch_Steps'].values.transpose(),window_size=7,mode='valid',axis=-1)\n",
    "\n",
    "\n",
    "    fig,ax=plt.subplots(figsize=[20,4])\n",
    "    ax.plot(tmp_full.index,moving_avg[0],linewidth=3)\n",
    "    ax.set_xlim(start_date- pd.Timedelta(days=1),end_date+ pd.Timedelta(days=0))\n",
    "    tick_dates = [start_date+relativedelta(months=1*n) for n in range(0,7)]\n",
    "    ax.set_xticks(tick_dates)\n",
    "    ax.tick_params(axis='x', labelsize=14)\n",
    "    ax.tick_params(axis='y', labelsize=14)\n",
    "    \n",
    "    scores = [\"ace_\",\"phq_\",\"gds15_\",\"gad_\"]\n",
    "    days_offset = 0\n",
    "    sfx = \"baseline\"\n",
    "        \n",
    "    for tdt in tick_dates:\n",
    "        ax.axvline(tdt, color=\"red\", linestyle=\"--\", linewidth=1)\n",
    "    \n",
    "  \n",
    "\n",
    "    ax.set_title(\"UID: \"+uid,fontsize=15)\n",
    "    ax.legend(['Steps'],loc=[.88,0.86],fontsize=16)\n",
    "    plt.savefig(\"step_vis_\"+uid+\".svg\",bbox_inches=\"tight\")\n",
    "    plt.show()\n",
    "    plt.close()"
   ]
  },
  {
   "cell_type": "code",
   "execution_count": null,
   "id": "c174ca8d",
   "metadata": {},
   "outputs": [],
   "source": [
    "uid = '6b86b273'\n",
    "plot_user_steps_traj(uid)"
   ]
  },
  {
   "cell_type": "code",
   "execution_count": null,
   "id": "83154d21",
   "metadata": {},
   "outputs": [],
   "source": [
    "def plot_user_sleep_traj1(user_id, ax):\n",
    "    tmp_full, start_date, end_date = get_user_daily_df(user_id)\n",
    "    if tmp_full is None:\n",
    "        return\n",
    "\n",
    "    sleep_cols = ['light', 'deep', 'REM', 'wakeup']\n",
    "    moving_avg = obtain_moving_avg(tmp_full[sleep_cols].values.T, window_size=7, mode='valid', axis=-1)\n",
    "\n",
    "    ax.plot(tmp_full.index, moving_avg[0][0], linewidth=3)\n",
    "    ax.plot(tmp_full.index, moving_avg[0][1], linewidth=3)\n",
    "    ax.plot(tmp_full.index, moving_avg[0][2], linewidth=3)\n",
    "    ax.plot(tmp_full.index, moving_avg[0][3], linewidth=3)\n",
    "\n",
    "    ax.set_ylabel(\"Sleep Duration (s)\", fontsize=14, labelpad=10, color='black')\n",
    "    ax.set_ylim(0, 600)\n",
    "    ax.set_xlim(start_date - pd.Timedelta(days=1), end_date)\n",
    "    tick_dates = [start_date + relativedelta(months=n) for n in range(7)]\n",
    "    ax.set_xticks(tick_dates)\n",
    "    ax.tick_params(axis='x', labelsize=14)\n",
    "    ax.tick_params(axis='y', labelsize=14)\n",
    "\n",
    "    vline_date = start_date\n",
    "    for tdt in tick_dates:\n",
    "        ax.axvline(tdt, color=\"red\", linestyle=\"--\", linewidth=1)\n",
    "\n",
    "    ax.text(vline_date, 580,\n",
    "            f\" ACE-III: {demographic.loc[demographic.user_id==user_id, 'ace_total'].values[0]}\\n\"\n",
    "            f\" PHQ-9: {demographic.loc[demographic.user_id==user_id, 'phq_total'].values[0]}\\n\"\n",
    "            f\" GDS-15: {demographic.loc[demographic.user_id==user_id, 'gds15_total'].values[0]}\\n\"\n",
    "            f\" GAD-7: {demographic.loc[demographic.user_id==user_id, 'gad_total'].values[0]}\",\n",
    "            color=\"red\", fontsize=15, verticalalignment='top')\n",
    "\n",
    "    ax.set_title(\"UID: \" + user_id, fontsize=15)\n",
    "    ax.legend(['light', 'deep', 'REM', 'wakeup'], loc=[.88, 0.56], fontsize=16)\n"
   ]
  },
  {
   "cell_type": "code",
   "execution_count": null,
   "id": "00599ea6",
   "metadata": {},
   "outputs": [],
   "source": [
    "def plot_user_steps_traj1(user_id, ax):\n",
    "    tmp = all_users_daily.loc[all_users_daily.user_id == user_id]\n",
    "    if tmp.empty:\n",
    "        print('no steps data for user id ', user_id)\n",
    "        return\n",
    "\n",
    "    start_date = tmp['date'].min()\n",
    "    end_date = start_date + pd.Timedelta(days=185)\n",
    "    date_range = pd.date_range(start=start_date, end=end_date, freq='D')\n",
    "\n",
    "    tmp = tmp.set_index('date').reindex(date_range)\n",
    "    tmp.index.name = 'date'\n",
    "\n",
    "    moving_avg = obtain_moving_avg(tmp['Watch_Steps'].values.T, window_size=7, mode='valid', axis=-1)\n",
    "\n",
    "    ax.plot(tmp.index, moving_avg[0], linewidth=3)\n",
    "    ax.set_xlim(start_date - pd.Timedelta(days=1), end_date)\n",
    "    tick_dates = [start_date + relativedelta(months=n) for n in range(7)]\n",
    "    ax.set_xticks(tick_dates)\n",
    "    ax.tick_params(axis='x', labelsize=14)\n",
    "    ax.tick_params(axis='y', labelsize=14)\n",
    "\n",
    "    for tdt in tick_dates:\n",
    "        ax.axvline(tdt, color=\"red\", linestyle=\"--\", linewidth=1)\n",
    "\n",
    "    #ax.set_title(\"UID: \" + user_id, fontsize=15)\n",
    "    ax.legend(['Steps'], loc=[.88, 0.86], fontsize=16)\n"
   ]
  },
  {
   "cell_type": "code",
   "execution_count": null,
   "id": "44083db7-c6c8-44cd-87e0-bb440ee724f6",
   "metadata": {},
   "outputs": [],
   "source": [
    "def plot_combined_sleep_and_steps(user_id):\n",
    "    fig, axes = plt.subplots(nrows=2, figsize=(20, 8), sharex=True)\n",
    "    \n",
    "    plot_user_sleep_traj1(user_id, axes[0])\n",
    "    plot_user_steps_traj1(user_id, axes[1])\n",
    "    \n",
    "    plt.tight_layout()\n",
    "    plt.savefig(\"vis_\" + user_id + \".pdf\", bbox_inches=\"tight\")\n",
    "    plt.show()\n",
    "    plt.close()\n",
    "\n",
    "uid = '6f4b6612'\n",
    "plot_combined_sleep_and_steps(uid)"
   ]
  }
 ],
 "metadata": {
  "kernelspec": {
   "display_name": "Python 3",
   "language": "python",
   "name": "python3"
  },
  "language_info": {
   "codemirror_mode": {
    "name": "ipython",
    "version": 3
   },
   "file_extension": ".py",
   "mimetype": "text/x-python",
   "name": "python",
   "nbconvert_exporter": "python",
   "pygments_lexer": "ipython3",
   "version": "3.12.6"
  }
 },
 "nbformat": 4,
 "nbformat_minor": 5
}
